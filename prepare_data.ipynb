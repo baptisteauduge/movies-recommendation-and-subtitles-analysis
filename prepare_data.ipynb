{
 "cells": [
  {
   "attachments": {},
   "cell_type": "markdown",
   "metadata": {},
   "source": [
    "# Preparing the data"
   ]
  },
  {
   "cell_type": "code",
   "execution_count": 1,
   "metadata": {},
   "outputs": [],
   "source": [
    "import modules.import_data as import_data\n",
    "import modules.prepare_data as prepare_data"
   ]
  },
  {
   "cell_type": "code",
   "execution_count": 2,
   "metadata": {},
   "outputs": [
    {
     "name": "stdout",
     "output_type": "stream",
     "text": [
      "[Import] Processing folder 1___Lost as serie Lost ...\n",
      "[Import] Fetching seasons ...\n",
      "[Import] Processing season 01 ...\n",
      "[Import] Fetching episodes ...\n",
      "[Import] Processing episode 01__Pilot_(1).txt ...\n",
      "[Import] Processing episode 02__Pilot_(2).txt ...\n",
      "[Import] Processing episode 03__Tabula_rasa.txt ...\n",
      "[Import] Processing episode 04__Walkabout.txt ...\n",
      "[Import] Processing episode 05__White_rabbit.txt ...\n",
      "[Import] Processing episode 06__House_of_the_rising_sun.txt ...\n",
      "[Import] Processing episode 07__The_moth.txt ...\n",
      "[Import] Processing episode 08__Confidence_man.txt ...\n",
      "[Import] Processing episode 09__Solitary.txt ...\n",
      "[Import] Processing episode 10__Raised_by_another.txt ...\n",
      "[Import] Processing episode 11__All_the_best_cowboys_have_daddy_issues.txt ...\n",
      "[Import] Processing episode 12__Whatever_the_case_may_be.txt ...\n",
      "[Import] Processing episode 13__Hearts_and_minds.txt ...\n",
      "[Import] Processing episode 14__Special.txt ...\n",
      "[Import] Processing episode 15__Homecoming.txt ...\n",
      "[Import] Processing episode 16__Outlaws.txt ...\n",
      "[Import] Processing episode 17__..._In_translation.txt ...\n",
      "[Import] Processing episode 18__Numbers.txt ...\n",
      "[Import] Processing episode 19__Deux_Ex_Machina.txt ...\n",
      "[Import] Processing episode 20__Do_No_Harm.txt ...\n",
      "[Import] Processing episode 21__The_Greater_Good.txt ...\n",
      "[Import] Processing episode 22__Born_to_Run.txt ...\n",
      "[Import] Processing episode 23__Exodus_(1).txt ...\n",
      "[Import] Processing episode 24__Exodus_(2).txt ...\n",
      "[Import] Processing season 02 ...\n",
      "[Import] Fetching episodes ...\n",
      "[Import] Processing episode 01__Man_of_science__man_of_faith.txt ...\n",
      "[Import] Processing episode 02__Adrift.txt ...\n",
      "[Import] Processing episode 03__Orientation.txt ...\n",
      "[Import] Processing episode 04__Everybody_hates_Hugo.txt ...\n",
      "[Import] Processing episode 05__...And_found.txt ...\n",
      "[Import] Processing episode 06__Abandoned.txt ...\n",
      "[Import] Processing episode 07__The_other_48_days.txt ...\n",
      "[Import] Processing episode 08__Collision.txt ...\n",
      "[Import] Processing episode 09__What_Kate_did.txt ...\n",
      "[Import] Processing episode 10__The_23rd_psalm.txt ...\n",
      "[Import] Processing episode 11__The_hunting_party.txt ...\n",
      "[Import] Processing episode 12__Fire___water.txt ...\n",
      "[Import] Processing episode 13__The_long_con.txt ...\n",
      "[Import] Processing episode 14__One_of_them.txt ...\n",
      "[Import] Processing episode 15__Maternity_leave.txt ...\n",
      "[Import] Processing episode 16__The_whole_truth.txt ...\n",
      "[Import] Processing episode 17__Lockdown.txt ...\n",
      "[Import] Processing episode 18__Dave.txt ...\n",
      "[Import] Processing episode 19__S.O.S..txt ...\n",
      "[Import] Processing episode 20__Two_for_the_road.txt ...\n",
      "[Import] Processing episode 21__Question_Mark.txt ...\n",
      "[Import] Processing episode 22__Three_minutes.txt ...\n",
      "[Import] Processing episode 23__Live_together__die_alone_(part_1).txt ...\n",
      "[Import] Processing episode 24__Live_together__die_alone_(part_2).txt ...\n",
      "[Import] Processing season 03 ...\n",
      "[Import] Fetching episodes ...\n",
      "[Import] Processing episode 01__Tale_of_two_cities.txt ...\n",
      "[Import] Processing episode 02__The_glass_ballerina.txt ...\n",
      "[Import] Processing episode 03__Further_instructions.txt ...\n",
      "[Import] Processing episode 04__Every_man_for_himself.txt ...\n",
      "[Import] Processing episode 05__The_cost_of_living.txt ...\n",
      "[Import] Processing episode 06__I_do.txt ...\n",
      "[Import] Processing episode 07__Not_in_Portland.txt ...\n",
      "[Import] Processing episode 08__Flashes_before_your_eyes.txt ...\n",
      "[Import] Processing episode 09__Stranger_in_a_strange_land.txt ...\n",
      "[Import] Processing episode 10__Tricia_Tanaka_is_dead.txt ...\n",
      "[Import] Processing episode 11__Enter_77.txt ...\n",
      "[Import] Processing episode 12__Par_avion.txt ...\n",
      "[Import] Processing episode 13__The_man_from_Tallahassee.txt ...\n",
      "[Import] Processing episode 14__Expose.txt ...\n",
      "[Import] Processing episode 15__Left_behind.txt ...\n",
      "[Import] Processing episode 16__One_of_us.txt ...\n",
      "[Import] Processing episode 17__Catch_22.txt ...\n",
      "[Import] Processing episode 18__D.O.C..txt ...\n",
      "[Import] Processing episode 19__The_brig.txt ...\n",
      "[Import] Processing episode 20__The_man_behind_the_curtain.txt ...\n",
      "[Import] Processing episode 21__Greatest_hits.txt ...\n",
      "[Import] Processing episode 22__Through_the_looking_glass_(I).txt ...\n",
      "[Import] Processing episode 23__Through_the_looking_glass_(II).txt ...\n",
      "[Import] Processing episode 99__The_answers.txt ...\n",
      "[Import] Processing season 04 ...\n",
      "[Import] Fetching episodes ...\n",
      "[Import] Processing episode 00__Past__present_and_future.txt ...\n",
      "[Import] Processing episode 01__The_beginning_of_the_end.txt ...\n",
      "[Import] Processing episode 02__Confirmed_dead.txt ...\n",
      "[Import] Processing episode 03__The_economist.txt ...\n",
      "[Import] Processing episode 04__Eggtown.txt ...\n",
      "[Import] Processing episode 05__The_constant.txt ...\n",
      "[Import] Processing episode 06__The_other_woman.txt ...\n",
      "[Import] Processing episode 07__Ji_Yeon.txt ...\n",
      "[Import] Processing episode 08__Meet_Kevin_Johnson.txt ...\n",
      "[Import] Processing episode 09__The_Shape_of_Things_to_Come.txt ...\n",
      "[Import] Processing episode 10__Something_Nice_Back_Home.txt ...\n",
      "[Import] Processing episode 11__Cabin_fever.txt ...\n",
      "[Import] Processing episode 12__There_s_no_place_like_home_(I).txt ...\n",
      "[Import] Processing season 05 ...\n",
      "[Import] Fetching episodes ...\n",
      "[Import] Processing episode 00__Special_The_Flash_Forward.txt ...\n",
      "[Import] Processing episode 01__Because_You_Left.txt ...\n",
      "[Import] Processing episode 02__The_Lie.txt ...\n",
      "[Import] Processing episode 03__Jughead.txt ...\n",
      "[Import] Processing episode 04__The_Little_Prince.txt ...\n",
      "[Import] Processing episode 05__This_Place_is_Death.txt ...\n",
      "[Import] Processing episode 06__316.txt ...\n",
      "[Import] Processing episode 07__The_Life_and_Death_of_Jeremy_Bentham.txt ...\n",
      "[Import] Processing episode 08__LaFleur.txt ...\n",
      "[Import] Processing episode 09__Namaste.txt ...\n",
      "[Import] Processing episode 10__He_s_Our_You.txt ...\n",
      "[Import] Processing episode 11__Whatever_Happened__Happened.txt ...\n",
      "[Import] Processing episode 12__Dead_is_Dead.txt ...\n",
      "[Import] Processing episode 13__Some_Like_It_Hoth.txt ...\n",
      "[Import] Processing episode 14__The_Variable.txt ...\n",
      "[Import] Processing episode 15__Follow_the_Leader.txt ...\n",
      "[Import] Processing episode 16__The_Incident_(1).txt ...\n",
      "[Import] Processing episode 17__The_Incident_(2).txt ...\n",
      "[Import] Processing episode 98__A_Journey_in_Time_Special_Recap.txt ...\n",
      "[Import] Processing episode 99__The_Story_of_the_Oceanic_Six.txt ...\n",
      "[Import] Processing season 06 ...\n",
      "[Import] Fetching episodes ...\n",
      "[Import] Processing episode 00__The_Final_Journey.txt ...\n",
      "[Import] Processing episode 01__LAX_(Part_1).txt ...\n",
      "[Import] Processing episode 02__LAX_(Part_2).txt ...\n",
      "[Import] Processing episode 03__What_Kate_Does.txt ...\n",
      "[Import] Processing episode 04__The_Substitute.txt ...\n",
      "[Import] Processing episode 05__Lighthouse.txt ...\n",
      "[Import] Processing episode 06__Sundown.txt ...\n",
      "[Import] Processing episode 07__Dr._Linus.txt ...\n",
      "[Import] Processing episode 08__Recon.txt ...\n",
      "[Import] Processing episode 09__Ab_Aeterno.txt ...\n",
      "[Import] Processing episode 10__The_Package.txt ...\n",
      "[Import] Processing episode 11__Happily_Ever_After.txt ...\n",
      "[Import] Processing episode 12__Everybody_Loves_Hugo.txt ...\n",
      "[Import] Processing episode 13__The_Last_Recruit.txt ...\n",
      "[Import] Processing episode 14__The_Candidate.txt ...\n",
      "[Import] Processing episode 15__Across_The_Sea.txt ...\n",
      "[Import] Processing episode 16__What_They_Died_For.txt ...\n",
      "[Import] Processing episode 17__The_End.txt ...\n",
      "[Import] Processing episode 98__New_Man_In_Charge.txt ...\n",
      "[Import] Processing episode 99__Jimmy_Kimmel_Live__Aloha_To_Lost.txt ...\n",
      "[Import] Processing folder 2___Heroes as serie Heroes ...\n",
      "[Import] Fetching seasons ...\n",
      "[Import] Processing season 01 ...\n",
      "[Import] Fetching episodes ...\n",
      "[Import] Processing episode 00__Unaired_Pilot.txt ...\n",
      "[Import] Processing episode 01__Genesis.txt ...\n",
      "[Import] Processing episode 02__Don_t_look_back.txt ...\n",
      "[Import] Processing episode 03__One_giant_leap.txt ...\n",
      "[Import] Processing episode 04__Collision.txt ...\n",
      "[Import] Processing episode 05__Hiros.txt ...\n",
      "[Import] Processing episode 06__Better_halves.txt ...\n",
      "[Import] Processing episode 07__Nothing_to_hide.txt ...\n",
      "[Import] Processing episode 08__Seven_minutes_to_midnight.txt ...\n",
      "[Import] Processing episode 09__Homecoming.txt ...\n",
      "[Import] Processing episode 10__Six_months_ago.txt ...\n",
      "[Import] Processing episode 11__Fallout.txt ...\n",
      "[Import] Processing episode 12__Godsend.txt ...\n",
      "[Import] Processing episode 13__The_fix.txt ...\n",
      "[Import] Processing episode 14__Distractions.txt ...\n",
      "[Import] Processing episode 15__Run_.txt ...\n",
      "[Import] Processing episode 16__Unexpected.txt ...\n",
      "[Import] Processing episode 17__Company_man.txt ...\n",
      "[Import] Processing episode 18__Parasite.txt ...\n",
      "[Import] Processing episode 19__.07_percent.txt ...\n",
      "[Import] Processing episode 20__Five_years_gone.txt ...\n",
      "[Import] Processing episode 21__The_hard_part.txt ...\n",
      "[Import] Processing episode 22__Landslide.txt ...\n",
      "[Import] Processing episode 23__How_to_stop_an_exploding_man.txt ...\n",
      "[Import] Processing season 02 ...\n",
      "[Import] Fetching episodes ...\n",
      "[Import] Processing episode 01__Four_months_later.txt ...\n",
      "[Import] Processing episode 02__Lizards.txt ...\n",
      "[Import] Processing episode 03__Kindred.txt ...\n",
      "[Import] Processing episode 04__The_kindness_of_strangers.txt ...\n",
      "[Import] Processing episode 05__Fight_or_flight.txt ...\n",
      "[Import] Processing episode 06__The_line.txt ...\n",
      "[Import] Processing episode 07__Out_of_time.txt ...\n",
      "[Import] Processing episode 08__Four_months_ago.txt ...\n",
      "[Import] Processing episode 09__Cautionary_tales.txt ...\n",
      "[Import] Processing episode 10__Truth_and_consequences.txt ...\n",
      "[Import] Processing episode 11__Powerless.txt ...\n",
      "[Import] Processing season 03 ...\n",
      "[Import] Fetching episodes ...\n",
      "[Import] Processing episode 00__Countdown_to_the_Premiere.txt ...\n",
      "[Import] Processing episode 01__The_Second_Coming.txt ...\n",
      "[Import] Processing episode 02__The_Butterfly_Effect.txt ...\n",
      "[Import] Processing episode 03__One_of_Us__One_of_Them.txt ...\n",
      "[Import] Processing episode 04__I_Am_Become_Death.txt ...\n",
      "[Import] Processing episode 05__Angels_And_Monsters.txt ...\n",
      "[Import] Processing episode 06__Dying_of_the_Light.txt ...\n",
      "[Import] Processing episode 07__Eris_Quod_Sum.txt ...\n",
      "[Import] Processing episode 08__Villains.txt ...\n",
      "[Import] Processing episode 09__It_s_Coming.txt ...\n",
      "[Import] Processing episode 10__The_Eclipse__Part_1.txt ...\n",
      "[Import] Processing episode 11__The_Eclipse__Part_2.txt ...\n",
      "[Import] Processing episode 12__Our_Father.txt ...\n",
      "[Import] Processing episode 13__Dual.txt ...\n",
      "[Import] Processing episode 14__A_Clear_and_Present_Danger.txt ...\n",
      "[Import] Processing episode 15__Trust_and_Blood.txt ...\n",
      "[Import] Processing episode 16__Building_26.txt ...\n",
      "[Import] Processing episode 17__Cold_Wars.txt ...\n",
      "[Import] Processing episode 18__Exposed.txt ...\n",
      "[Import] Processing episode 19__Shades_of_Gray.txt ...\n",
      "[Import] Processing episode 20__Cold_Snap.txt ...\n",
      "[Import] Processing episode 21__Into_Asylum.txt ...\n",
      "[Import] Processing episode 22__Turn_And_Face_The_Strange.txt ...\n",
      "[Import] Processing episode 23__1961.txt ...\n",
      "[Import] Processing episode 24__I_Am_Sylar.txt ...\n",
      "[Import] Processing episode 25__An_Invisible_Thread.txt ...\n",
      "[Import] Processing season 04 ...\n",
      "[Import] Fetching episodes ...\n",
      "[Import] Processing episode 01__Orientation.txt ...\n",
      "[Import] Processing episode 02__Jump__Push__Fall.txt ...\n",
      "[Import] Processing episode 03__Ink.txt ...\n",
      "[Import] Processing episode 04__Acceptance.txt ...\n",
      "[Import] Processing episode 05__Hysterical_Blindness.txt ...\n",
      "[Import] Processing episode 06__Tabula_Rasa.txt ...\n",
      "[Import] Processing episode 07__Strange_Attractors.txt ...\n",
      "[Import] Processing episode 08__Once_Upon_a_Time_in_Texas.txt ...\n",
      "[Import] Processing episode 09__Shadowboxing.txt ...\n",
      "[Import] Processing episode 10__Brother_s_Keeper.txt ...\n",
      "[Import] Processing episode 11__Thanksgiving.txt ...\n",
      "[Import] Processing episode 12__The_Fifth_Stage.txt ...\n",
      "[Import] Processing episode 13__Upon_This_Rock.txt ...\n",
      "[Import] Processing episode 14__Let_It_Bleed.txt ...\n",
      "[Import] Processing episode 15__Close_to_You.txt ...\n",
      "[Import] Processing episode 16__Pass_Fail.txt ...\n",
      "[Import] Processing episode 17__The_Art_of_Deception.txt ...\n",
      "[Import] Processing episode 18__The_Wall.txt ...\n",
      "[Import] Processing episode 19__Brave_New_World.txt ...\n"
     ]
    }
   ],
   "source": [
    "dfTranscripts = import_data.import_transcripts(2)"
   ]
  },
  {
   "cell_type": "code",
   "execution_count": 3,
   "metadata": {},
   "outputs": [
    {
     "name": "stdout",
     "output_type": "stream",
     "text": [
      "Number of transcripts: 205\n"
     ]
    },
    {
     "data": {
      "text/html": [
       "<div>\n",
       "<style scoped>\n",
       "    .dataframe tbody tr th:only-of-type {\n",
       "        vertical-align: middle;\n",
       "    }\n",
       "\n",
       "    .dataframe tbody tr th {\n",
       "        vertical-align: top;\n",
       "    }\n",
       "\n",
       "    .dataframe thead th {\n",
       "        text-align: right;\n",
       "    }\n",
       "</style>\n",
       "<table border=\"1\" class=\"dataframe\">\n",
       "  <thead>\n",
       "    <tr style=\"text-align: right;\">\n",
       "      <th></th>\n",
       "      <th>serie</th>\n",
       "      <th>season</th>\n",
       "      <th>nb_episode</th>\n",
       "      <th>name_episode</th>\n",
       "      <th>transcript</th>\n",
       "      <th>path</th>\n",
       "    </tr>\n",
       "  </thead>\n",
       "  <tbody>\n",
       "    <tr>\n",
       "      <th>0</th>\n",
       "      <td>Lost</td>\n",
       "      <td>01</td>\n",
       "      <td>1</td>\n",
       "      <td>Pilot_(1)</td>\n",
       "      <td>1\\n00:02:50,904 --&gt; 00:02:52,929\\nHelp me!\\n\\n...</td>\n",
       "      <td>data/transcripts/1___Lost/01/01__Pilot_(1).txt</td>\n",
       "    </tr>\n",
       "    <tr>\n",
       "      <th>1</th>\n",
       "      <td>Lost</td>\n",
       "      <td>01</td>\n",
       "      <td>2</td>\n",
       "      <td>Pilot_(2)</td>\n",
       "      <td>1\\n00:00:18,752 --&gt; 00:00:20,310\\nAnything?\\n\\...</td>\n",
       "      <td>data/transcripts/1___Lost/01/02__Pilot_(2).txt</td>\n",
       "    </tr>\n",
       "    <tr>\n",
       "      <th>2</th>\n",
       "      <td>Lost</td>\n",
       "      <td>01</td>\n",
       "      <td>3</td>\n",
       "      <td>Tabula_rasa</td>\n",
       "      <td>1\\n00:00:02,002 --&gt; 00:00:03,663\\n&lt;i&gt;Previousl...</td>\n",
       "      <td>data/transcripts/1___Lost/01/03__Tabula_rasa.txt</td>\n",
       "    </tr>\n",
       "    <tr>\n",
       "      <th>3</th>\n",
       "      <td>Lost</td>\n",
       "      <td>01</td>\n",
       "      <td>4</td>\n",
       "      <td>Walkabout</td>\n",
       "      <td>1\\n00:00:36,469 --&gt; 00:00:38,903\\nHelp me!\\n\\n...</td>\n",
       "      <td>data/transcripts/1___Lost/01/04__Walkabout.txt</td>\n",
       "    </tr>\n",
       "    <tr>\n",
       "      <th>4</th>\n",
       "      <td>Lost</td>\n",
       "      <td>01</td>\n",
       "      <td>5</td>\n",
       "      <td>White_rabbit</td>\n",
       "      <td>1\\n00:00:10,176 --&gt; 00:00:11,666\\nStay down.\\n...</td>\n",
       "      <td>data/transcripts/1___Lost/01/05__White_rabbit.txt</td>\n",
       "    </tr>\n",
       "  </tbody>\n",
       "</table>\n",
       "</div>"
      ],
      "text/plain": [
       "  serie season  nb_episode  name_episode  \\\n",
       "0  Lost     01           1     Pilot_(1)   \n",
       "1  Lost     01           2     Pilot_(2)   \n",
       "2  Lost     01           3   Tabula_rasa   \n",
       "3  Lost     01           4     Walkabout   \n",
       "4  Lost     01           5  White_rabbit   \n",
       "\n",
       "                                          transcript  \\\n",
       "0  1\\n00:02:50,904 --> 00:02:52,929\\nHelp me!\\n\\n...   \n",
       "1  1\\n00:00:18,752 --> 00:00:20,310\\nAnything?\\n\\...   \n",
       "2  1\\n00:00:02,002 --> 00:00:03,663\\n<i>Previousl...   \n",
       "3  1\\n00:00:36,469 --> 00:00:38,903\\nHelp me!\\n\\n...   \n",
       "4  1\\n00:00:10,176 --> 00:00:11,666\\nStay down.\\n...   \n",
       "\n",
       "                                                path  \n",
       "0     data/transcripts/1___Lost/01/01__Pilot_(1).txt  \n",
       "1     data/transcripts/1___Lost/01/02__Pilot_(2).txt  \n",
       "2   data/transcripts/1___Lost/01/03__Tabula_rasa.txt  \n",
       "3     data/transcripts/1___Lost/01/04__Walkabout.txt  \n",
       "4  data/transcripts/1___Lost/01/05__White_rabbit.txt  "
      ]
     },
     "execution_count": 3,
     "metadata": {},
     "output_type": "execute_result"
    }
   ],
   "source": [
    "print(\"Number of transcripts:\", len(dfTranscripts))\n",
    "dfTranscripts.head()"
   ]
  },
  {
   "attachments": {},
   "cell_type": "markdown",
   "metadata": {},
   "source": [
    "## Visualizing part of transcript"
   ]
  },
  {
   "cell_type": "code",
   "execution_count": 4,
   "metadata": {},
   "outputs": [
    {
     "data": {
      "text/plain": [
       "'1\\n00:02:50,904 --> 00:02:52,929\\nHelp me!\\n\\n2\\n00:02:53,006 --> 00:02:55,406\\nSomebody, help me out.\\n\\n3\\n'"
      ]
     },
     "execution_count": 4,
     "metadata": {},
     "output_type": "execute_result"
    }
   ],
   "source": [
    "dfTranscripts.iloc[0][\"transcript\"][:100]"
   ]
  },
  {
   "attachments": {},
   "cell_type": "markdown",
   "metadata": {},
   "source": [
    "## Trying function to remove timecodes and numbers"
   ]
  },
  {
   "cell_type": "code",
   "execution_count": 5,
   "metadata": {},
   "outputs": [
    {
     "name": "stdout",
     "output_type": "stream",
     "text": [
      "Removed 291 timecodes and 874 numbers\n"
     ]
    },
    {
     "data": {
      "text/plain": [
       "'\\n\\nHelp me!\\n\\n\\n\\nSomebody, help me out.\\n\\n\\n\\nSomebody, help me over here!\\n\\n\\n\\nSomebody, help me out!\\n\\n\\n\\nOh'"
      ]
     },
     "execution_count": 5,
     "metadata": {},
     "output_type": "execute_result"
    }
   ],
   "source": [
    "new_transcript, count_removed_timecodes, count_removed_numbers = prepare_data.remove_timecodes_and_number(dfTranscripts.iloc[0][\"transcript\"])\n",
    "print(\"Removed\", count_removed_timecodes, \"timecodes and\", count_removed_numbers, \"numbers\")\n",
    "new_transcript[:100]"
   ]
  },
  {
   "cell_type": "code",
   "execution_count": 6,
   "metadata": {},
   "outputs": [
    {
     "data": {
      "text/plain": [
       "'Help me!Somebody, help me out.Somebody, help me over here!Somebody, help me out!Oh, my God!Walt! Walt!- Stay away from the gas! Stay there!Help! Help!Somebody, help me!Oh, my leg!Hey, get over here.Give me a hand.You, come on!Come over here! Give me a hand!On the count of three.One, two, three!Help!'"
      ]
     },
     "execution_count": 6,
     "metadata": {},
     "output_type": "execute_result"
    }
   ],
   "source": [
    "new_transcript,count_removed_newline = prepare_data.remove_newline_from_text(new_transcript)\n",
    "new_transcript[:300]"
   ]
  },
  {
   "cell_type": "code",
   "execution_count": 7,
   "metadata": {},
   "outputs": [
    {
     "data": {
      "text/plain": [
       "'Help me Somebody  help me out Somebody  help me over here Somebody  help me out Oh  my God Walt  Walt   Stay away from the gas  Stay there Help  Help Somebody  help me Oh  my leg Hey  get over here Give me a hand You  come on Come over here  Give me a hand On the count of three One  two  three Help '"
      ]
     },
     "execution_count": 7,
     "metadata": {},
     "output_type": "execute_result"
    }
   ],
   "source": [
    "new_transcript, count_removed_punctuation = prepare_data.remove_punctuation_from_text(new_transcript)\n",
    "new_transcript[:300]"
   ]
  },
  {
   "cell_type": "code",
   "execution_count": 29,
   "metadata": {},
   "outputs": [
    {
     "name": "stdout",
     "output_type": "stream",
     "text": [
      "Removed 309 spaces\n"
     ]
    },
    {
     "data": {
      "text/plain": [
       "'Help me Somebody help me out Somebody help me over here Somebody help me out Oh my God Walt Walt Stay away from the gas Stay there Help Help Somebody help me Oh my leg Hey get over here Give me a hand You come on Come over here Give me a hand On the count of three One two three Help Please help me H'"
      ]
     },
     "execution_count": 29,
     "metadata": {},
     "output_type": "execute_result"
    }
   ],
   "source": [
    "new_transcript, count_removed_multiple_spaces = prepare_data.remove_multiple_spaces_from_text(new_transcript)\n",
    "print(\"Removed\", count_removed_multiple_spaces, \"spaces\")\n",
    "new_transcript[:300]"
   ]
  },
  {
   "cell_type": "code",
   "execution_count": null,
   "metadata": {},
   "outputs": [],
   "source": []
  }
 ],
 "metadata": {
  "kernelspec": {
   "display_name": "Python 3",
   "language": "python",
   "name": "python3"
  },
  "language_info": {
   "codemirror_mode": {
    "name": "ipython",
    "version": 3
   },
   "file_extension": ".py",
   "mimetype": "text/x-python",
   "name": "python",
   "nbconvert_exporter": "python",
   "pygments_lexer": "ipython3",
   "version": "3.10.10 (tags/v3.10.10:aad5f6a, Feb  7 2023, 17:20:36) [MSC v.1929 64 bit (AMD64)]"
  },
  "orig_nbformat": 4,
  "vscode": {
   "interpreter": {
    "hash": "4e87ed7f3962434517c25eb050070d235fd9b8942ce30e13884a6950b582033b"
   }
  }
 },
 "nbformat": 4,
 "nbformat_minor": 2
}

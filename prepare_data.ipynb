{
 "cells": [
  {
   "attachments": {},
   "cell_type": "markdown",
   "metadata": {},
   "source": [
    "#### If you already ran the \"preparing data\", you can skip this section."
   ]
  },
  {
   "attachments": {},
   "cell_type": "markdown",
   "metadata": {},
   "source": [
    "# Preparing the data"
   ]
  },
  {
   "cell_type": "code",
   "execution_count": 1,
   "metadata": {},
   "outputs": [],
   "source": [
    "import modules.import_data as import_data\n",
    "import modules.prepare_data as prepare_data\n",
    "import modules.natural_language_treatment as nlt"
   ]
  },
  {
   "cell_type": "code",
   "execution_count": 2,
   "metadata": {},
   "outputs": [],
   "source": [
    "dfTranscripts = import_data.import_transcripts(6000)"
   ]
  },
  {
   "cell_type": "code",
   "execution_count": 3,
   "metadata": {},
   "outputs": [
    {
     "name": "stdout",
     "output_type": "stream",
     "text": [
      "Number of transcripts: 81822\n"
     ]
    },
    {
     "data": {
      "text/html": [
       "<div>\n",
       "<style scoped>\n",
       "    .dataframe tbody tr th:only-of-type {\n",
       "        vertical-align: middle;\n",
       "    }\n",
       "\n",
       "    .dataframe tbody tr th {\n",
       "        vertical-align: top;\n",
       "    }\n",
       "\n",
       "    .dataframe thead th {\n",
       "        text-align: right;\n",
       "    }\n",
       "</style>\n",
       "<table border=\"1\" class=\"dataframe\">\n",
       "  <thead>\n",
       "    <tr style=\"text-align: right;\">\n",
       "      <th></th>\n",
       "      <th>serie</th>\n",
       "      <th>season</th>\n",
       "      <th>nb_episode</th>\n",
       "      <th>name_episode</th>\n",
       "      <th>transcript</th>\n",
       "      <th>path</th>\n",
       "    </tr>\n",
       "  </thead>\n",
       "  <tbody>\n",
       "    <tr>\n",
       "      <th>0</th>\n",
       "      <td>Lost</td>\n",
       "      <td>01</td>\n",
       "      <td>1</td>\n",
       "      <td>Pilot_(1)</td>\n",
       "      <td>1\\n00:02:50,904 --&gt; 00:02:52,929\\nHelp me!\\n\\n...</td>\n",
       "      <td>data/transcripts/1___Lost/01/01__Pilot_(1).txt</td>\n",
       "    </tr>\n",
       "    <tr>\n",
       "      <th>1</th>\n",
       "      <td>Lost</td>\n",
       "      <td>01</td>\n",
       "      <td>2</td>\n",
       "      <td>Pilot_(2)</td>\n",
       "      <td>1\\n00:00:18,752 --&gt; 00:00:20,310\\nAnything?\\n\\...</td>\n",
       "      <td>data/transcripts/1___Lost/01/02__Pilot_(2).txt</td>\n",
       "    </tr>\n",
       "    <tr>\n",
       "      <th>2</th>\n",
       "      <td>Lost</td>\n",
       "      <td>01</td>\n",
       "      <td>3</td>\n",
       "      <td>Tabula_rasa</td>\n",
       "      <td>1\\n00:00:02,002 --&gt; 00:00:03,663\\n&lt;i&gt;Previousl...</td>\n",
       "      <td>data/transcripts/1___Lost/01/03__Tabula_rasa.txt</td>\n",
       "    </tr>\n",
       "    <tr>\n",
       "      <th>3</th>\n",
       "      <td>Lost</td>\n",
       "      <td>01</td>\n",
       "      <td>4</td>\n",
       "      <td>Walkabout</td>\n",
       "      <td>1\\n00:00:36,469 --&gt; 00:00:38,903\\nHelp me!\\n\\n...</td>\n",
       "      <td>data/transcripts/1___Lost/01/04__Walkabout.txt</td>\n",
       "    </tr>\n",
       "    <tr>\n",
       "      <th>4</th>\n",
       "      <td>Lost</td>\n",
       "      <td>01</td>\n",
       "      <td>5</td>\n",
       "      <td>White_rabbit</td>\n",
       "      <td>1\\n00:00:10,176 --&gt; 00:00:11,666\\nStay down.\\n...</td>\n",
       "      <td>data/transcripts/1___Lost/01/05__White_rabbit.txt</td>\n",
       "    </tr>\n",
       "  </tbody>\n",
       "</table>\n",
       "</div>"
      ],
      "text/plain": [
       "  serie season  nb_episode  name_episode  \\\n",
       "0  Lost     01           1     Pilot_(1)   \n",
       "1  Lost     01           2     Pilot_(2)   \n",
       "2  Lost     01           3   Tabula_rasa   \n",
       "3  Lost     01           4     Walkabout   \n",
       "4  Lost     01           5  White_rabbit   \n",
       "\n",
       "                                          transcript  \\\n",
       "0  1\\n00:02:50,904 --> 00:02:52,929\\nHelp me!\\n\\n...   \n",
       "1  1\\n00:00:18,752 --> 00:00:20,310\\nAnything?\\n\\...   \n",
       "2  1\\n00:00:02,002 --> 00:00:03,663\\n<i>Previousl...   \n",
       "3  1\\n00:00:36,469 --> 00:00:38,903\\nHelp me!\\n\\n...   \n",
       "4  1\\n00:00:10,176 --> 00:00:11,666\\nStay down.\\n...   \n",
       "\n",
       "                                                path  \n",
       "0     data/transcripts/1___Lost/01/01__Pilot_(1).txt  \n",
       "1     data/transcripts/1___Lost/01/02__Pilot_(2).txt  \n",
       "2   data/transcripts/1___Lost/01/03__Tabula_rasa.txt  \n",
       "3     data/transcripts/1___Lost/01/04__Walkabout.txt  \n",
       "4  data/transcripts/1___Lost/01/05__White_rabbit.txt  "
      ]
     },
     "execution_count": 3,
     "metadata": {},
     "output_type": "execute_result"
    }
   ],
   "source": [
    "print(\"Number of transcripts:\", len(dfTranscripts))\n",
    "dfTranscripts.head()"
   ]
  },
  {
   "attachments": {},
   "cell_type": "markdown",
   "metadata": {},
   "source": [
    "## Visualizing part of transcript"
   ]
  },
  {
   "cell_type": "code",
   "execution_count": 9,
   "metadata": {},
   "outputs": [
    {
     "data": {
      "text/plain": [
       "'1\\n00:02:50,904 --> 00:02:52,929\\nHelp me!\\n\\n2\\n00:02:53,006 --> 00:02:55,406\\nSomebody, help me out.\\n\\n3\\n'"
      ]
     },
     "execution_count": 9,
     "metadata": {},
     "output_type": "execute_result"
    }
   ],
   "source": [
    "dfTranscripts.iloc[0][\"transcript\"][:100]"
   ]
  },
  {
   "attachments": {},
   "cell_type": "markdown",
   "metadata": {},
   "source": [
    "## Trying function to remove timecodes and numbers"
   ]
  },
  {
   "cell_type": "code",
   "execution_count": 10,
   "metadata": {},
   "outputs": [
    {
     "name": "stdout",
     "output_type": "stream",
     "text": [
      "Removed 291 timecodes and 0 numbers\n"
     ]
    },
    {
     "data": {
      "text/plain": [
       "'1\\n\\nHelp me!\\n\\n2\\n\\nSomebody, help me out.\\n\\n3\\n\\nSomebody, help me over here!\\n\\n4\\n\\nSomebody, help me out!\\n\\n'"
      ]
     },
     "execution_count": 10,
     "metadata": {},
     "output_type": "execute_result"
    }
   ],
   "source": [
    "new_transcript, count_removed_timecodes, count_removed_numbers = prepare_data.remove_timecodes_and_number(dfTranscripts.iloc[0][\"transcript\"])\n",
    "print(\"Removed\", count_removed_timecodes, \"timecodes and\", count_removed_numbers, \"numbers\")\n",
    "new_transcript[:100]"
   ]
  },
  {
   "cell_type": "code",
   "execution_count": 11,
   "metadata": {},
   "outputs": [
    {
     "data": {
      "text/plain": [
       "'1  Help me!  2  Somebody, help me out.  3  Somebody, help me over here!  4  Somebody, help me out!  5  Oh, my God!  6  Walt! Walt!  7  - Stay away from the gas! Stay there!  8  Help! Help!  9  Somebody, help me!  10  Oh, my leg!  11  Hey, get over here. Give me a hand.  12  You, come on! Come over h'"
      ]
     },
     "execution_count": 11,
     "metadata": {},
     "output_type": "execute_result"
    }
   ],
   "source": [
    "new_transcript,count_removed_newline = prepare_data.remove_newline(new_transcript)\n",
    "new_transcript[:300]"
   ]
  },
  {
   "cell_type": "code",
   "execution_count": 12,
   "metadata": {},
   "outputs": [
    {
     "data": {
      "text/plain": [
       "'1  Help me   2  Somebody  help me out   3  Somebody  help me over here   4  Somebody  help me out   5  Oh  my God   6  Walt  Walt   7    Stay away from the gas  Stay there   8  Help  Help   9  Somebody  help me   10  Oh  my leg   11  Hey  get over here  Give me a hand   12  You  come on  Come over h'"
      ]
     },
     "execution_count": 12,
     "metadata": {},
     "output_type": "execute_result"
    }
   ],
   "source": [
    "new_transcript, count_removed_punctuation = prepare_data.remove_punctuation(new_transcript)\n",
    "new_transcript[:300]"
   ]
  },
  {
   "cell_type": "code",
   "execution_count": 13,
   "metadata": {},
   "outputs": [
    {
     "name": "stdout",
     "output_type": "stream",
     "text": [
      "Removed 837 spaces\n"
     ]
    },
    {
     "data": {
      "text/plain": [
       "'1 Help me 2 Somebody help me out 3 Somebody help me over here 4 Somebody help me out 5 Oh my God 6 Walt Walt 7 Stay away from the gas Stay there 8 Help Help 9 Somebody help me 10 Oh my leg 11 Hey get over here Give me a hand 12 You come on Come over here Give me a hand 13 On the count of three 14 On'"
      ]
     },
     "execution_count": 13,
     "metadata": {},
     "output_type": "execute_result"
    }
   ],
   "source": [
    "new_transcript, count_removed_multiple_spaces = prepare_data.remove_multiple_spaces(new_transcript)\n",
    "print(\"Removed\", count_removed_multiple_spaces, \"spaces\")\n",
    "new_transcript[:300]"
   ]
  },
  {
   "cell_type": "code",
   "execution_count": 14,
   "metadata": {},
   "outputs": [],
   "source": [
    "new_transcript = prepare_data.convert_to_lowercase(new_transcript)"
   ]
  },
  {
   "attachments": {},
   "cell_type": "markdown",
   "metadata": {},
   "source": [
    "## Prepare all the data for tokenization"
   ]
  },
  {
   "cell_type": "code",
   "execution_count": 15,
   "metadata": {},
   "outputs": [
    {
     "data": {
      "text/html": [
       "<div>\n",
       "<style scoped>\n",
       "    .dataframe tbody tr th:only-of-type {\n",
       "        vertical-align: middle;\n",
       "    }\n",
       "\n",
       "    .dataframe tbody tr th {\n",
       "        vertical-align: top;\n",
       "    }\n",
       "\n",
       "    .dataframe thead th {\n",
       "        text-align: right;\n",
       "    }\n",
       "</style>\n",
       "<table border=\"1\" class=\"dataframe\">\n",
       "  <thead>\n",
       "    <tr style=\"text-align: right;\">\n",
       "      <th></th>\n",
       "      <th>serie</th>\n",
       "      <th>season</th>\n",
       "      <th>nb_episode</th>\n",
       "      <th>name_episode</th>\n",
       "      <th>transcript</th>\n",
       "      <th>path</th>\n",
       "      <th>transcripts_prepared_for_tokenization</th>\n",
       "    </tr>\n",
       "  </thead>\n",
       "  <tbody>\n",
       "    <tr>\n",
       "      <th>0</th>\n",
       "      <td>Lost</td>\n",
       "      <td>01</td>\n",
       "      <td>1</td>\n",
       "      <td>Pilot_(1)</td>\n",
       "      <td>1\\n00:02:50,904 --&gt; 00:02:52,929\\nHelp me!\\n\\n...</td>\n",
       "      <td>data/transcripts/1___Lost/01/01__Pilot_(1).txt</td>\n",
       "      <td>help me  somebody help me out  somebody help ...</td>\n",
       "    </tr>\n",
       "    <tr>\n",
       "      <th>1</th>\n",
       "      <td>Lost</td>\n",
       "      <td>01</td>\n",
       "      <td>2</td>\n",
       "      <td>Pilot_(2)</td>\n",
       "      <td>1\\n00:00:18,752 --&gt; 00:00:20,310\\nAnything?\\n\\...</td>\n",
       "      <td>data/transcripts/1___Lost/01/02__Pilot_(2).txt</td>\n",
       "      <td>anything  you keep asking if there s anything...</td>\n",
       "    </tr>\n",
       "    <tr>\n",
       "      <th>2</th>\n",
       "      <td>Lost</td>\n",
       "      <td>01</td>\n",
       "      <td>3</td>\n",
       "      <td>Tabula_rasa</td>\n",
       "      <td>1\\n00:00:02,002 --&gt; 00:00:03,663\\n&lt;i&gt;Previousl...</td>\n",
       "      <td>data/transcripts/1___Lost/01/03__Tabula_rasa.txt</td>\n",
       "      <td>i previously on lost i  do you think he s gon...</td>\n",
       "    </tr>\n",
       "    <tr>\n",
       "      <th>3</th>\n",
       "      <td>Lost</td>\n",
       "      <td>01</td>\n",
       "      <td>4</td>\n",
       "      <td>Walkabout</td>\n",
       "      <td>1\\n00:00:36,469 --&gt; 00:00:38,903\\nHelp me!\\n\\n...</td>\n",
       "      <td>data/transcripts/1___Lost/01/04__Walkabout.txt</td>\n",
       "      <td>help me  walt you gotta keep that dog quiet  ...</td>\n",
       "    </tr>\n",
       "    <tr>\n",
       "      <th>4</th>\n",
       "      <td>Lost</td>\n",
       "      <td>01</td>\n",
       "      <td>5</td>\n",
       "      <td>White_rabbit</td>\n",
       "      <td>1\\n00:00:10,176 --&gt; 00:00:11,666\\nStay down.\\n...</td>\n",
       "      <td>data/transcripts/1___Lost/01/05__White_rabbit.txt</td>\n",
       "      <td>stay down  your choice man walk away now you ...</td>\n",
       "    </tr>\n",
       "    <tr>\n",
       "      <th>...</th>\n",
       "      <td>...</td>\n",
       "      <td>...</td>\n",
       "      <td>...</td>\n",
       "      <td>...</td>\n",
       "      <td>...</td>\n",
       "      <td>...</td>\n",
       "      <td>...</td>\n",
       "    </tr>\n",
       "    <tr>\n",
       "      <th>81817</th>\n",
       "      <td>Mind_of_a_Chef</td>\n",
       "      <td>04</td>\n",
       "      <td>3</td>\n",
       "      <td>Rome</td>\n",
       "      <td>ï»¿1\\n00:00:00,033 --&gt; 00:00:02,601\\n      Hel...</td>\n",
       "      <td>data/transcripts/5480___Mind_of_a_Chef/04/03__...</td>\n",
       "      <td>help everyone explore new worlds and ideas  s...</td>\n",
       "    </tr>\n",
       "    <tr>\n",
       "      <th>81818</th>\n",
       "      <td>Mind_of_a_Chef</td>\n",
       "      <td>04</td>\n",
       "      <td>4</td>\n",
       "      <td>Hunger</td>\n",
       "      <td>ï»¿1\\n00:00:00,033 --&gt; 00:00:02,601\\n      Hel...</td>\n",
       "      <td>data/transcripts/5480___Mind_of_a_Chef/04/04__...</td>\n",
       "      <td>help everyone explore new worlds and ideas  s...</td>\n",
       "    </tr>\n",
       "    <tr>\n",
       "      <th>81819</th>\n",
       "      <td>Mind_of_a_Chef</td>\n",
       "      <td>04</td>\n",
       "      <td>5</td>\n",
       "      <td>Past</td>\n",
       "      <td>1\\n00:00:00,033 --&gt; 00:00:02,568\\n      Help e...</td>\n",
       "      <td>data/transcripts/5480___Mind_of_a_Chef/04/05__...</td>\n",
       "      <td>help everyone explore new worlds and ideas  s...</td>\n",
       "    </tr>\n",
       "    <tr>\n",
       "      <th>81820</th>\n",
       "      <td>Mind_of_a_Chef</td>\n",
       "      <td>04</td>\n",
       "      <td>6</td>\n",
       "      <td>Hustle</td>\n",
       "      <td>ï»¿1\\n00:00:00,033 --&gt; 00:00:02,568\\n      Hel...</td>\n",
       "      <td>data/transcripts/5480___Mind_of_a_Chef/04/06__...</td>\n",
       "      <td>help everyone explore new worlds and ideas  s...</td>\n",
       "    </tr>\n",
       "    <tr>\n",
       "      <th>81821</th>\n",
       "      <td>Mind_of_a_Chef</td>\n",
       "      <td>04</td>\n",
       "      <td>7</td>\n",
       "      <td>Napkin</td>\n",
       "      <td>1\\n00:00:01,033 --&gt; 00:00:03,568\\n      Help e...</td>\n",
       "      <td>data/transcripts/5480___Mind_of_a_Chef/04/07__...</td>\n",
       "      <td>help everyone explore new worlds and ideas  s...</td>\n",
       "    </tr>\n",
       "  </tbody>\n",
       "</table>\n",
       "<p>81822 rows × 7 columns</p>\n",
       "</div>"
      ],
      "text/plain": [
       "                serie season  nb_episode  name_episode  \\\n",
       "0                Lost     01           1     Pilot_(1)   \n",
       "1                Lost     01           2     Pilot_(2)   \n",
       "2                Lost     01           3   Tabula_rasa   \n",
       "3                Lost     01           4     Walkabout   \n",
       "4                Lost     01           5  White_rabbit   \n",
       "...               ...    ...         ...           ...   \n",
       "81817  Mind_of_a_Chef     04           3          Rome   \n",
       "81818  Mind_of_a_Chef     04           4        Hunger   \n",
       "81819  Mind_of_a_Chef     04           5          Past   \n",
       "81820  Mind_of_a_Chef     04           6        Hustle   \n",
       "81821  Mind_of_a_Chef     04           7        Napkin   \n",
       "\n",
       "                                              transcript  \\\n",
       "0      1\\n00:02:50,904 --> 00:02:52,929\\nHelp me!\\n\\n...   \n",
       "1      1\\n00:00:18,752 --> 00:00:20,310\\nAnything?\\n\\...   \n",
       "2      1\\n00:00:02,002 --> 00:00:03,663\\n<i>Previousl...   \n",
       "3      1\\n00:00:36,469 --> 00:00:38,903\\nHelp me!\\n\\n...   \n",
       "4      1\\n00:00:10,176 --> 00:00:11,666\\nStay down.\\n...   \n",
       "...                                                  ...   \n",
       "81817  ï»¿1\\n00:00:00,033 --> 00:00:02,601\\n      Hel...   \n",
       "81818  ï»¿1\\n00:00:00,033 --> 00:00:02,601\\n      Hel...   \n",
       "81819  1\\n00:00:00,033 --> 00:00:02,568\\n      Help e...   \n",
       "81820  ï»¿1\\n00:00:00,033 --> 00:00:02,568\\n      Hel...   \n",
       "81821  1\\n00:00:01,033 --> 00:00:03,568\\n      Help e...   \n",
       "\n",
       "                                                    path  \\\n",
       "0         data/transcripts/1___Lost/01/01__Pilot_(1).txt   \n",
       "1         data/transcripts/1___Lost/01/02__Pilot_(2).txt   \n",
       "2       data/transcripts/1___Lost/01/03__Tabula_rasa.txt   \n",
       "3         data/transcripts/1___Lost/01/04__Walkabout.txt   \n",
       "4      data/transcripts/1___Lost/01/05__White_rabbit.txt   \n",
       "...                                                  ...   \n",
       "81817  data/transcripts/5480___Mind_of_a_Chef/04/03__...   \n",
       "81818  data/transcripts/5480___Mind_of_a_Chef/04/04__...   \n",
       "81819  data/transcripts/5480___Mind_of_a_Chef/04/05__...   \n",
       "81820  data/transcripts/5480___Mind_of_a_Chef/04/06__...   \n",
       "81821  data/transcripts/5480___Mind_of_a_Chef/04/07__...   \n",
       "\n",
       "                   transcripts_prepared_for_tokenization  \n",
       "0       help me  somebody help me out  somebody help ...  \n",
       "1       anything  you keep asking if there s anything...  \n",
       "2       i previously on lost i  do you think he s gon...  \n",
       "3       help me  walt you gotta keep that dog quiet  ...  \n",
       "4       stay down  your choice man walk away now you ...  \n",
       "...                                                  ...  \n",
       "81817   help everyone explore new worlds and ideas  s...  \n",
       "81818   help everyone explore new worlds and ideas  s...  \n",
       "81819   help everyone explore new worlds and ideas  s...  \n",
       "81820   help everyone explore new worlds and ideas  s...  \n",
       "81821   help everyone explore new worlds and ideas  s...  \n",
       "\n",
       "[81822 rows x 7 columns]"
      ]
     },
     "execution_count": 15,
     "metadata": {},
     "output_type": "execute_result"
    }
   ],
   "source": [
    "dfTranscriptsTokenization =  prepare_data.prepare_data_in_dataframe(dfTranscripts)\n",
    "dfTranscriptsTokenization"
   ]
  },
  {
   "cell_type": "code",
   "execution_count": 16,
   "metadata": {},
   "outputs": [],
   "source": [
    "dfTranscriptsTokenization = dfTranscriptsTokenization.drop('transcript', axis=1)\n",
    "dfTranscriptsTokenization.to_csv(\"data/pandas_export/prepared_for_tokenization.csv\", sep=\";\", escapechar=\"\\\\\")"
   ]
  },
  {
   "attachments": {},
   "cell_type": "markdown",
   "metadata": {},
   "source": [
    "# Import Data from CSV"
   ]
  },
  {
   "cell_type": "code",
   "execution_count": 17,
   "metadata": {},
   "outputs": [],
   "source": [
    "import pandas as pd\n",
    "dfTranscriptsTokenizationAll = pd.read_csv('data/pandas_export/prepared_for_tokenization.csv', sep=\";\", escapechar=\"\\\\\")"
   ]
  },
  {
   "cell_type": "code",
   "execution_count": 18,
   "metadata": {},
   "outputs": [],
   "source": [
    "dfTranscriptsTokenization = dfTranscriptsTokenizationAll[:2000]"
   ]
  },
  {
   "cell_type": "code",
   "execution_count": 19,
   "metadata": {},
   "outputs": [
    {
     "data": {
      "text/html": [
       "<div>\n",
       "<style scoped>\n",
       "    .dataframe tbody tr th:only-of-type {\n",
       "        vertical-align: middle;\n",
       "    }\n",
       "\n",
       "    .dataframe tbody tr th {\n",
       "        vertical-align: top;\n",
       "    }\n",
       "\n",
       "    .dataframe thead th {\n",
       "        text-align: right;\n",
       "    }\n",
       "</style>\n",
       "<table border=\"1\" class=\"dataframe\">\n",
       "  <thead>\n",
       "    <tr style=\"text-align: right;\">\n",
       "      <th></th>\n",
       "      <th>Unnamed: 0</th>\n",
       "      <th>serie</th>\n",
       "      <th>season</th>\n",
       "      <th>nb_episode</th>\n",
       "      <th>name_episode</th>\n",
       "      <th>path</th>\n",
       "      <th>transcripts_prepared_for_tokenization</th>\n",
       "    </tr>\n",
       "  </thead>\n",
       "  <tbody>\n",
       "    <tr>\n",
       "      <th>0</th>\n",
       "      <td>0</td>\n",
       "      <td>Lost</td>\n",
       "      <td>1</td>\n",
       "      <td>1</td>\n",
       "      <td>Pilot_(1)</td>\n",
       "      <td>data/transcripts/1___Lost/01/01__Pilot_(1).txt</td>\n",
       "      <td>help me  somebody help me out  somebody help ...</td>\n",
       "    </tr>\n",
       "    <tr>\n",
       "      <th>1</th>\n",
       "      <td>1</td>\n",
       "      <td>Lost</td>\n",
       "      <td>1</td>\n",
       "      <td>2</td>\n",
       "      <td>Pilot_(2)</td>\n",
       "      <td>data/transcripts/1___Lost/01/02__Pilot_(2).txt</td>\n",
       "      <td>anything  you keep asking if there s anything...</td>\n",
       "    </tr>\n",
       "    <tr>\n",
       "      <th>2</th>\n",
       "      <td>2</td>\n",
       "      <td>Lost</td>\n",
       "      <td>1</td>\n",
       "      <td>3</td>\n",
       "      <td>Tabula_rasa</td>\n",
       "      <td>data/transcripts/1___Lost/01/03__Tabula_rasa.txt</td>\n",
       "      <td>i previously on lost i  do you think he s gon...</td>\n",
       "    </tr>\n",
       "    <tr>\n",
       "      <th>3</th>\n",
       "      <td>3</td>\n",
       "      <td>Lost</td>\n",
       "      <td>1</td>\n",
       "      <td>4</td>\n",
       "      <td>Walkabout</td>\n",
       "      <td>data/transcripts/1___Lost/01/04__Walkabout.txt</td>\n",
       "      <td>help me  walt you gotta keep that dog quiet  ...</td>\n",
       "    </tr>\n",
       "    <tr>\n",
       "      <th>4</th>\n",
       "      <td>4</td>\n",
       "      <td>Lost</td>\n",
       "      <td>1</td>\n",
       "      <td>5</td>\n",
       "      <td>White_rabbit</td>\n",
       "      <td>data/transcripts/1___Lost/01/05__White_rabbit.txt</td>\n",
       "      <td>stay down  your choice man walk away now you ...</td>\n",
       "    </tr>\n",
       "    <tr>\n",
       "      <th>...</th>\n",
       "      <td>...</td>\n",
       "      <td>...</td>\n",
       "      <td>...</td>\n",
       "      <td>...</td>\n",
       "      <td>...</td>\n",
       "      <td>...</td>\n",
       "      <td>...</td>\n",
       "    </tr>\n",
       "    <tr>\n",
       "      <th>1995</th>\n",
       "      <td>1995</td>\n",
       "      <td>Criminal_Minds</td>\n",
       "      <td>7</td>\n",
       "      <td>24</td>\n",
       "      <td>Run</td>\n",
       "      <td>data/transcripts/21___Criminal_Minds/07/24__Ru...</td>\n",
       "      <td>alarm beeping  groans  i have one minute  who...</td>\n",
       "    </tr>\n",
       "    <tr>\n",
       "      <th>1996</th>\n",
       "      <td>1996</td>\n",
       "      <td>Criminal_Minds</td>\n",
       "      <td>8</td>\n",
       "      <td>1</td>\n",
       "      <td>The_Silencer</td>\n",
       "      <td>data/transcripts/21___Criminal_Minds/08/01__Th...</td>\n",
       "      <td>man jake  thunder  take it easy take it easy ...</td>\n",
       "    </tr>\n",
       "    <tr>\n",
       "      <th>1997</th>\n",
       "      <td>1997</td>\n",
       "      <td>Criminal_Minds</td>\n",
       "      <td>8</td>\n",
       "      <td>2</td>\n",
       "      <td>The_Pact</td>\n",
       "      <td>data/transcripts/21___Criminal_Minds/08/02__Th...</td>\n",
       "      <td>you gotta be kidding me  i can t take you  we...</td>\n",
       "    </tr>\n",
       "    <tr>\n",
       "      <th>1998</th>\n",
       "      <td>1998</td>\n",
       "      <td>Criminal_Minds</td>\n",
       "      <td>8</td>\n",
       "      <td>3</td>\n",
       "      <td>Through_the_Looking_Glass</td>\n",
       "      <td>data/transcripts/21___Criminal_Minds/08/03__Th...</td>\n",
       "      <td>i can t do these late nights anymore  my girl...</td>\n",
       "    </tr>\n",
       "    <tr>\n",
       "      <th>1999</th>\n",
       "      <td>1999</td>\n",
       "      <td>Criminal_Minds</td>\n",
       "      <td>8</td>\n",
       "      <td>4</td>\n",
       "      <td>God_Complex</td>\n",
       "      <td>data/transcripts/21___Criminal_Minds/08/04__Go...</td>\n",
       "      <td>monitor beeping  door closes  monitor beeps f...</td>\n",
       "    </tr>\n",
       "  </tbody>\n",
       "</table>\n",
       "<p>2000 rows × 7 columns</p>\n",
       "</div>"
      ],
      "text/plain": [
       "      Unnamed: 0           serie  season  nb_episode  \\\n",
       "0              0            Lost       1           1   \n",
       "1              1            Lost       1           2   \n",
       "2              2            Lost       1           3   \n",
       "3              3            Lost       1           4   \n",
       "4              4            Lost       1           5   \n",
       "...          ...             ...     ...         ...   \n",
       "1995        1995  Criminal_Minds       7          24   \n",
       "1996        1996  Criminal_Minds       8           1   \n",
       "1997        1997  Criminal_Minds       8           2   \n",
       "1998        1998  Criminal_Minds       8           3   \n",
       "1999        1999  Criminal_Minds       8           4   \n",
       "\n",
       "                   name_episode  \\\n",
       "0                     Pilot_(1)   \n",
       "1                     Pilot_(2)   \n",
       "2                   Tabula_rasa   \n",
       "3                     Walkabout   \n",
       "4                  White_rabbit   \n",
       "...                         ...   \n",
       "1995                        Run   \n",
       "1996               The_Silencer   \n",
       "1997                   The_Pact   \n",
       "1998  Through_the_Looking_Glass   \n",
       "1999                God_Complex   \n",
       "\n",
       "                                                   path  \\\n",
       "0        data/transcripts/1___Lost/01/01__Pilot_(1).txt   \n",
       "1        data/transcripts/1___Lost/01/02__Pilot_(2).txt   \n",
       "2      data/transcripts/1___Lost/01/03__Tabula_rasa.txt   \n",
       "3        data/transcripts/1___Lost/01/04__Walkabout.txt   \n",
       "4     data/transcripts/1___Lost/01/05__White_rabbit.txt   \n",
       "...                                                 ...   \n",
       "1995  data/transcripts/21___Criminal_Minds/07/24__Ru...   \n",
       "1996  data/transcripts/21___Criminal_Minds/08/01__Th...   \n",
       "1997  data/transcripts/21___Criminal_Minds/08/02__Th...   \n",
       "1998  data/transcripts/21___Criminal_Minds/08/03__Th...   \n",
       "1999  data/transcripts/21___Criminal_Minds/08/04__Go...   \n",
       "\n",
       "                  transcripts_prepared_for_tokenization  \n",
       "0      help me  somebody help me out  somebody help ...  \n",
       "1      anything  you keep asking if there s anything...  \n",
       "2      i previously on lost i  do you think he s gon...  \n",
       "3      help me  walt you gotta keep that dog quiet  ...  \n",
       "4      stay down  your choice man walk away now you ...  \n",
       "...                                                 ...  \n",
       "1995   alarm beeping  groans  i have one minute  who...  \n",
       "1996   man jake  thunder  take it easy take it easy ...  \n",
       "1997   you gotta be kidding me  i can t take you  we...  \n",
       "1998   i can t do these late nights anymore  my girl...  \n",
       "1999   monitor beeping  door closes  monitor beeps f...  \n",
       "\n",
       "[2000 rows x 7 columns]"
      ]
     },
     "execution_count": 19,
     "metadata": {},
     "output_type": "execute_result"
    }
   ],
   "source": [
    "dfTranscriptsTokenization"
   ]
  },
  {
   "attachments": {},
   "cell_type": "markdown",
   "metadata": {},
   "source": [
    "## NLTK"
   ]
  },
  {
   "cell_type": "code",
   "execution_count": 20,
   "metadata": {},
   "outputs": [],
   "source": [
    "import nltk\n",
    "from nltk.tokenize import word_tokenize"
   ]
  },
  {
   "cell_type": "code",
   "execution_count": 21,
   "metadata": {},
   "outputs": [
    {
     "name": "stderr",
     "output_type": "stream",
     "text": [
      "/Users/baptiste/Documents/github/courses/movies-recommendation-and-subtitles-analysis/modules/natural_language_treatment.py:14: SettingWithCopyWarning: \n",
      "A value is trying to be set on a copy of a slice from a DataFrame.\n",
      "Try using .loc[row_indexer,col_indexer] = value instead\n",
      "\n",
      "See the caveats in the documentation: https://pandas.pydata.org/pandas-docs/stable/user_guide/indexing.html#returning-a-view-versus-a-copy\n",
      "  df[\"transcripts_prepared_for_tokenization\"] = df[\"transcripts_prepared_for_tokenization\"].astype(str)\n",
      "/Users/baptiste/Documents/github/courses/movies-recommendation-and-subtitles-analysis/modules/natural_language_treatment.py:15: SettingWithCopyWarning: \n",
      "A value is trying to be set on a copy of a slice from a DataFrame.\n",
      "Try using .loc[row_indexer,col_indexer] = value instead\n",
      "\n",
      "See the caveats in the documentation: https://pandas.pydata.org/pandas-docs/stable/user_guide/indexing.html#returning-a-view-versus-a-copy\n",
      "  df[\"transcript_tokenized\"] = df[\"transcripts_prepared_for_tokenization\"].apply(word_tokenize)\n"
     ]
    },
    {
     "data": {
      "text/html": [
       "<div>\n",
       "<style scoped>\n",
       "    .dataframe tbody tr th:only-of-type {\n",
       "        vertical-align: middle;\n",
       "    }\n",
       "\n",
       "    .dataframe tbody tr th {\n",
       "        vertical-align: top;\n",
       "    }\n",
       "\n",
       "    .dataframe thead th {\n",
       "        text-align: right;\n",
       "    }\n",
       "</style>\n",
       "<table border=\"1\" class=\"dataframe\">\n",
       "  <thead>\n",
       "    <tr style=\"text-align: right;\">\n",
       "      <th></th>\n",
       "      <th>Unnamed: 0</th>\n",
       "      <th>serie</th>\n",
       "      <th>season</th>\n",
       "      <th>nb_episode</th>\n",
       "      <th>name_episode</th>\n",
       "      <th>path</th>\n",
       "      <th>transcript_tokenized</th>\n",
       "    </tr>\n",
       "  </thead>\n",
       "  <tbody>\n",
       "    <tr>\n",
       "      <th>0</th>\n",
       "      <td>0</td>\n",
       "      <td>Lost</td>\n",
       "      <td>1</td>\n",
       "      <td>1</td>\n",
       "      <td>Pilot_(1)</td>\n",
       "      <td>data/transcripts/1___Lost/01/01__Pilot_(1).txt</td>\n",
       "      <td>[help, me, somebody, help, me, out, somebody, ...</td>\n",
       "    </tr>\n",
       "    <tr>\n",
       "      <th>1</th>\n",
       "      <td>1</td>\n",
       "      <td>Lost</td>\n",
       "      <td>1</td>\n",
       "      <td>2</td>\n",
       "      <td>Pilot_(2)</td>\n",
       "      <td>data/transcripts/1___Lost/01/02__Pilot_(2).txt</td>\n",
       "      <td>[anything, you, keep, asking, if, there, s, an...</td>\n",
       "    </tr>\n",
       "    <tr>\n",
       "      <th>2</th>\n",
       "      <td>2</td>\n",
       "      <td>Lost</td>\n",
       "      <td>1</td>\n",
       "      <td>3</td>\n",
       "      <td>Tabula_rasa</td>\n",
       "      <td>data/transcripts/1___Lost/01/03__Tabula_rasa.txt</td>\n",
       "      <td>[i, previously, on, lost, i, do, you, think, h...</td>\n",
       "    </tr>\n",
       "    <tr>\n",
       "      <th>3</th>\n",
       "      <td>3</td>\n",
       "      <td>Lost</td>\n",
       "      <td>1</td>\n",
       "      <td>4</td>\n",
       "      <td>Walkabout</td>\n",
       "      <td>data/transcripts/1___Lost/01/04__Walkabout.txt</td>\n",
       "      <td>[help, me, walt, you, got, ta, keep, that, dog...</td>\n",
       "    </tr>\n",
       "    <tr>\n",
       "      <th>4</th>\n",
       "      <td>4</td>\n",
       "      <td>Lost</td>\n",
       "      <td>1</td>\n",
       "      <td>5</td>\n",
       "      <td>White_rabbit</td>\n",
       "      <td>data/transcripts/1___Lost/01/05__White_rabbit.txt</td>\n",
       "      <td>[stay, down, your, choice, man, walk, away, no...</td>\n",
       "    </tr>\n",
       "    <tr>\n",
       "      <th>...</th>\n",
       "      <td>...</td>\n",
       "      <td>...</td>\n",
       "      <td>...</td>\n",
       "      <td>...</td>\n",
       "      <td>...</td>\n",
       "      <td>...</td>\n",
       "      <td>...</td>\n",
       "    </tr>\n",
       "    <tr>\n",
       "      <th>1995</th>\n",
       "      <td>1995</td>\n",
       "      <td>Criminal_Minds</td>\n",
       "      <td>7</td>\n",
       "      <td>24</td>\n",
       "      <td>Run</td>\n",
       "      <td>data/transcripts/21___Criminal_Minds/07/24__Ru...</td>\n",
       "      <td>[alarm, beeping, groans, i, have, one, minute,...</td>\n",
       "    </tr>\n",
       "    <tr>\n",
       "      <th>1996</th>\n",
       "      <td>1996</td>\n",
       "      <td>Criminal_Minds</td>\n",
       "      <td>8</td>\n",
       "      <td>1</td>\n",
       "      <td>The_Silencer</td>\n",
       "      <td>data/transcripts/21___Criminal_Minds/08/01__Th...</td>\n",
       "      <td>[man, jake, thunder, take, it, easy, take, it,...</td>\n",
       "    </tr>\n",
       "    <tr>\n",
       "      <th>1997</th>\n",
       "      <td>1997</td>\n",
       "      <td>Criminal_Minds</td>\n",
       "      <td>8</td>\n",
       "      <td>2</td>\n",
       "      <td>The_Pact</td>\n",
       "      <td>data/transcripts/21___Criminal_Minds/08/02__Th...</td>\n",
       "      <td>[you, got, ta, be, kidding, me, i, can, t, tak...</td>\n",
       "    </tr>\n",
       "    <tr>\n",
       "      <th>1998</th>\n",
       "      <td>1998</td>\n",
       "      <td>Criminal_Minds</td>\n",
       "      <td>8</td>\n",
       "      <td>3</td>\n",
       "      <td>Through_the_Looking_Glass</td>\n",
       "      <td>data/transcripts/21___Criminal_Minds/08/03__Th...</td>\n",
       "      <td>[i, can, t, do, these, late, nights, anymore, ...</td>\n",
       "    </tr>\n",
       "    <tr>\n",
       "      <th>1999</th>\n",
       "      <td>1999</td>\n",
       "      <td>Criminal_Minds</td>\n",
       "      <td>8</td>\n",
       "      <td>4</td>\n",
       "      <td>God_Complex</td>\n",
       "      <td>data/transcripts/21___Criminal_Minds/08/04__Go...</td>\n",
       "      <td>[monitor, beeping, door, closes, monitor, beep...</td>\n",
       "    </tr>\n",
       "  </tbody>\n",
       "</table>\n",
       "<p>2000 rows × 7 columns</p>\n",
       "</div>"
      ],
      "text/plain": [
       "      Unnamed: 0           serie  season  nb_episode  \\\n",
       "0              0            Lost       1           1   \n",
       "1              1            Lost       1           2   \n",
       "2              2            Lost       1           3   \n",
       "3              3            Lost       1           4   \n",
       "4              4            Lost       1           5   \n",
       "...          ...             ...     ...         ...   \n",
       "1995        1995  Criminal_Minds       7          24   \n",
       "1996        1996  Criminal_Minds       8           1   \n",
       "1997        1997  Criminal_Minds       8           2   \n",
       "1998        1998  Criminal_Minds       8           3   \n",
       "1999        1999  Criminal_Minds       8           4   \n",
       "\n",
       "                   name_episode  \\\n",
       "0                     Pilot_(1)   \n",
       "1                     Pilot_(2)   \n",
       "2                   Tabula_rasa   \n",
       "3                     Walkabout   \n",
       "4                  White_rabbit   \n",
       "...                         ...   \n",
       "1995                        Run   \n",
       "1996               The_Silencer   \n",
       "1997                   The_Pact   \n",
       "1998  Through_the_Looking_Glass   \n",
       "1999                God_Complex   \n",
       "\n",
       "                                                   path  \\\n",
       "0        data/transcripts/1___Lost/01/01__Pilot_(1).txt   \n",
       "1        data/transcripts/1___Lost/01/02__Pilot_(2).txt   \n",
       "2      data/transcripts/1___Lost/01/03__Tabula_rasa.txt   \n",
       "3        data/transcripts/1___Lost/01/04__Walkabout.txt   \n",
       "4     data/transcripts/1___Lost/01/05__White_rabbit.txt   \n",
       "...                                                 ...   \n",
       "1995  data/transcripts/21___Criminal_Minds/07/24__Ru...   \n",
       "1996  data/transcripts/21___Criminal_Minds/08/01__Th...   \n",
       "1997  data/transcripts/21___Criminal_Minds/08/02__Th...   \n",
       "1998  data/transcripts/21___Criminal_Minds/08/03__Th...   \n",
       "1999  data/transcripts/21___Criminal_Minds/08/04__Go...   \n",
       "\n",
       "                                   transcript_tokenized  \n",
       "0     [help, me, somebody, help, me, out, somebody, ...  \n",
       "1     [anything, you, keep, asking, if, there, s, an...  \n",
       "2     [i, previously, on, lost, i, do, you, think, h...  \n",
       "3     [help, me, walt, you, got, ta, keep, that, dog...  \n",
       "4     [stay, down, your, choice, man, walk, away, no...  \n",
       "...                                                 ...  \n",
       "1995  [alarm, beeping, groans, i, have, one, minute,...  \n",
       "1996  [man, jake, thunder, take, it, easy, take, it,...  \n",
       "1997  [you, got, ta, be, kidding, me, i, can, t, tak...  \n",
       "1998  [i, can, t, do, these, late, nights, anymore, ...  \n",
       "1999  [monitor, beeping, door, closes, monitor, beep...  \n",
       "\n",
       "[2000 rows x 7 columns]"
      ]
     },
     "execution_count": 21,
     "metadata": {},
     "output_type": "execute_result"
    }
   ],
   "source": [
    "dfTranscriptsTokenized = nlt.tokenization(dfTranscriptsTokenization)\n",
    "dfTranscriptsTokenized = dfTranscriptsTokenized.drop('transcripts_prepared_for_tokenization', axis=1)\n",
    "dfTranscriptsTokenized"
   ]
  },
  {
   "cell_type": "code",
   "execution_count": 22,
   "metadata": {},
   "outputs": [],
   "source": [
    "dfTranscriptsLemanized = nlt.lemanization(dfTranscriptsTokenized)\n",
    "#dfTranscriptsLemanized = dfTranscriptsTokenized.drop('transcripts_prepared_for_tokenization', axis=1)\n"
   ]
  },
  {
   "cell_type": "code",
   "execution_count": 23,
   "metadata": {},
   "outputs": [],
   "source": [
    "dfOccurenceSerie = nlt.get_occurence_from_df_serie(dfTranscriptsLemanized)\n",
    "dfOccurenceEpisodes = nlt.get_occurence_from_df_episodes(dfTranscriptsLemanized)"
   ]
  },
  {
   "cell_type": "code",
   "execution_count": 29,
   "metadata": {},
   "outputs": [
    {
     "data": {
      "text/plain": [
       "56611"
      ]
     },
     "execution_count": 29,
     "metadata": {},
     "output_type": "execute_result"
    }
   ],
   "source": [
    "len(dfOccurenceSerie)"
   ]
  },
  {
   "cell_type": "code",
   "execution_count": null,
   "metadata": {},
   "outputs": [],
   "source": []
  }
 ],
 "metadata": {
  "kernelspec": {
   "display_name": "Python 3",
   "language": "python",
   "name": "python3"
  },
  "language_info": {
   "codemirror_mode": {
    "name": "ipython",
    "version": 3
   },
   "file_extension": ".py",
   "mimetype": "text/x-python",
   "name": "python",
   "nbconvert_exporter": "python",
   "pygments_lexer": "ipython3",
   "version": "3.10.10"
  },
  "orig_nbformat": 4,
  "vscode": {
   "interpreter": {
    "hash": "4e87ed7f3962434517c25eb050070d235fd9b8942ce30e13884a6950b582033b"
   }
  }
 },
 "nbformat": 4,
 "nbformat_minor": 2
}
